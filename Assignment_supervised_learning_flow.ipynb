{
 "cells": [
  {
   "cell_type": "markdown",
   "id": "ec202ada",
   "metadata": {},
   "source": [
    "# Assignment - ML flow - Titanic Dataset"
   ]
  },
  {
   "cell_type": "markdown",
   "id": "ca16486b",
   "metadata": {},
   "source": [
    "# student 1: Roei 9871"
   ]
  },
  {
   "cell_type": "markdown",
   "id": "567429e6",
   "metadata": {},
   "source": [
    "# Claude Prompts Used for This Assignment\n",
    "\n",
    "1. How can I set up a ColumnTransformer to handle numerical features with imputation and scaling and categorical features with imputation and encoding in the same pipeline?  \n",
    "\n",
    "2. In a KNN pipeline what is the right order of steps: VarianceThreshold, SelectKBest, StandardScaler, KNN? And how do I tune the k parameter in SelectKBest using GridSearchCV?  \n",
    "\n",
    "3. My Random Forest model gives an F1 score of 0.97 on the training set but only 0.78 on the test set. Is this normal overfitting or did I evaluate it incorrectly?  \n",
    "\n"
   ]
  },
  {
   "cell_type": "markdown",
   "id": "df67c2ee-87c8-499c-a04f-1853c332f51d",
   "metadata": {},
   "source": [
    "## Part 2 - Initial Preparations \n",
    "You could add as many code cells as needed"
   ]
  },
  {
   "cell_type": "code",
   "execution_count": 1,
   "id": "e23beb00-858f-4596-b666-63e105e99093",
   "metadata": {},
   "outputs": [],
   "source": [
    "import pandas as pd\n",
    "import matplotlib.pyplot as plt\n",
    "import seaborn as sns"
   ]
  },
  {
   "cell_type": "code",
   "execution_count": 2,
   "id": "b29b3454-b568-4614-8017-f15b3c59fc55",
   "metadata": {},
   "outputs": [
    {
     "data": {
      "text/plain": [
       "(712, 8)"
      ]
     },
     "execution_count": 2,
     "metadata": {},
     "output_type": "execute_result"
    }
   ],
   "source": [
    "trainset = pd.read_csv('titanic_train.csv')\n",
    "trainset.shape"
   ]
  },
  {
   "cell_type": "code",
   "execution_count": 3,
   "id": "c6faf638",
   "metadata": {},
   "outputs": [
    {
     "data": {
      "text/html": [
       "<div>\n",
       "<style scoped>\n",
       "    .dataframe tbody tr th:only-of-type {\n",
       "        vertical-align: middle;\n",
       "    }\n",
       "\n",
       "    .dataframe tbody tr th {\n",
       "        vertical-align: top;\n",
       "    }\n",
       "\n",
       "    .dataframe thead th {\n",
       "        text-align: right;\n",
       "    }\n",
       "</style>\n",
       "<table border=\"1\" class=\"dataframe\">\n",
       "  <thead>\n",
       "    <tr style=\"text-align: right;\">\n",
       "      <th></th>\n",
       "      <th>Pclass</th>\n",
       "      <th>Sex</th>\n",
       "      <th>Age</th>\n",
       "      <th>SibSp</th>\n",
       "      <th>Parch</th>\n",
       "      <th>Fare</th>\n",
       "      <th>Embarked</th>\n",
       "      <th>Survived</th>\n",
       "    </tr>\n",
       "  </thead>\n",
       "  <tbody>\n",
       "    <tr>\n",
       "      <th>0</th>\n",
       "      <td>1</td>\n",
       "      <td>0</td>\n",
       "      <td>54.0</td>\n",
       "      <td>1</td>\n",
       "      <td>0</td>\n",
       "      <td>78.2667</td>\n",
       "      <td>1</td>\n",
       "      <td>1</td>\n",
       "    </tr>\n",
       "    <tr>\n",
       "      <th>1</th>\n",
       "      <td>2</td>\n",
       "      <td>0</td>\n",
       "      <td>45.0</td>\n",
       "      <td>0</td>\n",
       "      <td>0</td>\n",
       "      <td>13.5000</td>\n",
       "      <td>0</td>\n",
       "      <td>1</td>\n",
       "    </tr>\n",
       "    <tr>\n",
       "      <th>2</th>\n",
       "      <td>3</td>\n",
       "      <td>1</td>\n",
       "      <td>20.0</td>\n",
       "      <td>0</td>\n",
       "      <td>0</td>\n",
       "      <td>9.5000</td>\n",
       "      <td>0</td>\n",
       "      <td>0</td>\n",
       "    </tr>\n",
       "    <tr>\n",
       "      <th>3</th>\n",
       "      <td>3</td>\n",
       "      <td>1</td>\n",
       "      <td>36.0</td>\n",
       "      <td>0</td>\n",
       "      <td>0</td>\n",
       "      <td>7.8958</td>\n",
       "      <td>0</td>\n",
       "      <td>0</td>\n",
       "    </tr>\n",
       "    <tr>\n",
       "      <th>4</th>\n",
       "      <td>3</td>\n",
       "      <td>1</td>\n",
       "      <td>22.0</td>\n",
       "      <td>0</td>\n",
       "      <td>0</td>\n",
       "      <td>8.0500</td>\n",
       "      <td>0</td>\n",
       "      <td>0</td>\n",
       "    </tr>\n",
       "  </tbody>\n",
       "</table>\n",
       "</div>"
      ],
      "text/plain": [
       "   Pclass  Sex   Age  SibSp  Parch     Fare  Embarked  Survived\n",
       "0       1    0  54.0      1      0  78.2667         1         1\n",
       "1       2    0  45.0      0      0  13.5000         0         1\n",
       "2       3    1  20.0      0      0   9.5000         0         0\n",
       "3       3    1  36.0      0      0   7.8958         0         0\n",
       "4       3    1  22.0      0      0   8.0500         0         0"
      ]
     },
     "execution_count": 3,
     "metadata": {},
     "output_type": "execute_result"
    }
   ],
   "source": [
    "trainset.head()"
   ]
  },
  {
   "cell_type": "code",
   "execution_count": 4,
   "id": "4b47fe56-d611-4b28-be92-673db4d56400",
   "metadata": {},
   "outputs": [
    {
     "data": {
      "text/plain": [
       "(179, 8)"
      ]
     },
     "execution_count": 4,
     "metadata": {},
     "output_type": "execute_result"
    }
   ],
   "source": [
    "testset = pd.read_csv('titanic_test.csv')\n",
    "testset.shape"
   ]
  },
  {
   "cell_type": "code",
   "execution_count": 5,
   "id": "cd23b176",
   "metadata": {},
   "outputs": [
    {
     "data": {
      "text/html": [
       "<div>\n",
       "<style scoped>\n",
       "    .dataframe tbody tr th:only-of-type {\n",
       "        vertical-align: middle;\n",
       "    }\n",
       "\n",
       "    .dataframe tbody tr th {\n",
       "        vertical-align: top;\n",
       "    }\n",
       "\n",
       "    .dataframe thead th {\n",
       "        text-align: right;\n",
       "    }\n",
       "</style>\n",
       "<table border=\"1\" class=\"dataframe\">\n",
       "  <thead>\n",
       "    <tr style=\"text-align: right;\">\n",
       "      <th></th>\n",
       "      <th>Pclass</th>\n",
       "      <th>Sex</th>\n",
       "      <th>Age</th>\n",
       "      <th>SibSp</th>\n",
       "      <th>Parch</th>\n",
       "      <th>Fare</th>\n",
       "      <th>Embarked</th>\n",
       "      <th>Survived</th>\n",
       "    </tr>\n",
       "  </thead>\n",
       "  <tbody>\n",
       "    <tr>\n",
       "      <th>0</th>\n",
       "      <td>3</td>\n",
       "      <td>1</td>\n",
       "      <td>35.000000</td>\n",
       "      <td>0</td>\n",
       "      <td>0</td>\n",
       "      <td>7.0500</td>\n",
       "      <td>0</td>\n",
       "      <td>0</td>\n",
       "    </tr>\n",
       "    <tr>\n",
       "      <th>1</th>\n",
       "      <td>3</td>\n",
       "      <td>1</td>\n",
       "      <td>30.000000</td>\n",
       "      <td>0</td>\n",
       "      <td>0</td>\n",
       "      <td>7.2500</td>\n",
       "      <td>0</td>\n",
       "      <td>0</td>\n",
       "    </tr>\n",
       "    <tr>\n",
       "      <th>2</th>\n",
       "      <td>3</td>\n",
       "      <td>1</td>\n",
       "      <td>29.699118</td>\n",
       "      <td>0</td>\n",
       "      <td>0</td>\n",
       "      <td>14.5000</td>\n",
       "      <td>0</td>\n",
       "      <td>0</td>\n",
       "    </tr>\n",
       "    <tr>\n",
       "      <th>3</th>\n",
       "      <td>3</td>\n",
       "      <td>0</td>\n",
       "      <td>21.000000</td>\n",
       "      <td>0</td>\n",
       "      <td>0</td>\n",
       "      <td>7.7500</td>\n",
       "      <td>2</td>\n",
       "      <td>0</td>\n",
       "    </tr>\n",
       "    <tr>\n",
       "      <th>4</th>\n",
       "      <td>3</td>\n",
       "      <td>1</td>\n",
       "      <td>32.000000</td>\n",
       "      <td>0</td>\n",
       "      <td>0</td>\n",
       "      <td>56.4958</td>\n",
       "      <td>0</td>\n",
       "      <td>1</td>\n",
       "    </tr>\n",
       "  </tbody>\n",
       "</table>\n",
       "</div>"
      ],
      "text/plain": [
       "   Pclass  Sex        Age  SibSp  Parch     Fare  Embarked  Survived\n",
       "0       3    1  35.000000      0      0   7.0500         0         0\n",
       "1       3    1  30.000000      0      0   7.2500         0         0\n",
       "2       3    1  29.699118      0      0  14.5000         0         0\n",
       "3       3    0  21.000000      0      0   7.7500         2         0\n",
       "4       3    1  32.000000      0      0  56.4958         0         1"
      ]
     },
     "execution_count": 5,
     "metadata": {},
     "output_type": "execute_result"
    }
   ],
   "source": [
    "testset.head()"
   ]
  },
  {
   "cell_type": "markdown",
   "id": "342bfbbf-4b33-4f88-90eb-5a2f65b93e18",
   "metadata": {},
   "source": [
    "### Survival rate by class and by sex:"
   ]
  },
  {
   "cell_type": "code",
   "execution_count": 6,
   "id": "53e27610-b640-4db0-80c9-789b5f5fae58",
   "metadata": {},
   "outputs": [
    {
     "data": {
      "image/png": "[encoded data removed]",
      "text/plain": [
       "<Figure size 1000x600 with 1 Axes>"
      ]
     },
     "metadata": {},
     "output_type": "display_data"
    },
    {
     "data": {
      "image/png": "[encoded data removed]",
      "text/plain": [
       "<Figure size 1000x600 with 1 Axes>"
      ]
     },
     "metadata": {},
     "output_type": "display_data"
    }
   ],
   "source": [
    "plt.figure(figsize=(10, 6))\n",
    "trainset_copy=trainset.copy()\n",
    "trainset_copy['Pclass'] = trainset_copy['Pclass'].replace({1: 'First', 2: 'Second',3:'Third'})\n",
    "sns.barplot(x='Pclass', y='Survived', data=trainset_copy)\n",
    "plt.title('Survival Rate by Class')\n",
    "plt.show()\n",
    "\n",
    "trainset_copy['Sex'] = trainset_copy['Sex'].replace({0: 'Female', 1: 'Male'})\n",
    "plt.figure(figsize=(10, 6))\n",
    "sns.barplot(x='Sex',y='Survived',  data=trainset_copy)\n",
    "plt.title('Survival Rate by Sex')\n",
    "plt.show()"
   ]
  },
  {
   "cell_type": "markdown",
   "id": "f9c5c199-8ab3-4ea6-903d-16183d1a8ddb",
   "metadata": {},
   "source": [
    "### Correlation Matrix of all the categories:"
   ]
  },
  {
   "cell_type": "code",
   "execution_count": 7,
   "id": "5c5c9d0f-3958-41d9-9eef-70b85ba7e00c",
   "metadata": {},
   "outputs": [
    {
     "data": {
      "image/png": "[encoded data removed]",
      "text/plain": [
       "<Figure size 1000x600 with 2 Axes>"
      ]
     },
     "metadata": {},
     "output_type": "display_data"
    }
   ],
   "source": [
    "plt.figure(figsize=(10,6))\n",
    "sns.heatmap(trainset.corr(), annot=True, cmap='coolwarm', fmt='.2f')\n",
    "plt.title('Correlation Matrix')\n",
    "plt.show()"
   ]
  },
  {
   "cell_type": "markdown",
   "id": "fb36672a",
   "metadata": {},
   "source": [
    "## Part 3 - Experiments"
   ]
  },
  {
   "cell_type": "code",
   "execution_count": 8,
   "id": "b7098585",
   "metadata": {},
   "outputs": [],
   "source": [
    "from sklearn.model_selection import GridSearchCV\n",
    "from sklearn.preprocessing import StandardScaler, OneHotEncoder\n",
    "from sklearn.compose import ColumnTransformer\n",
    "from sklearn.pipeline import Pipeline\n",
    "from sklearn.impute import SimpleImputer\n",
    "from sklearn.ensemble import RandomForestClassifier\n",
    "from sklearn.neighbors import KNeighborsClassifier\n",
    "from sklearn.model_selection import cross_val_score\n",
    "from sklearn.metrics import make_scorer, f1_score"
   ]
  },
  {
   "cell_type": "markdown",
   "id": "e748398f",
   "metadata": {},
   "source": [
    "### Taking care of the missing values:\n",
    "- In the numeric categories (age and fare) used mean.\n",
    "- In the categorical categories (class, age, and embarked) used the onehot encoder to find the most frequent.\n",
    "- The info of the DataFrame show 0 nulls"
   ]
  },
  {
   "cell_type": "code",
   "execution_count": 9,
   "id": "c35ffd67-a9b1-4c81-b79b-7e58e7c4fbd1",
   "metadata": {},
   "outputs": [
    {
     "name": "stdout",
     "output_type": "stream",
     "text": [
      "<class 'pandas.core.frame.DataFrame'>\n",
      "RangeIndex: 712 entries, 0 to 711\n",
      "Data columns (total 8 columns):\n",
      " #   Column    Non-Null Count  Dtype  \n",
      "---  ------    --------------  -----  \n",
      " 0   Pclass    712 non-null    int64  \n",
      " 1   Sex       712 non-null    int64  \n",
      " 2   Age       712 non-null    float64\n",
      " 3   SibSp     712 non-null    int64  \n",
      " 4   Parch     712 non-null    int64  \n",
      " 5   Fare      712 non-null    float64\n",
      " 6   Embarked  712 non-null    int64  \n",
      " 7   Survived  712 non-null    int64  \n",
      "dtypes: float64(2), int64(6)\n",
      "memory usage: 44.6 KB\n"
     ]
    }
   ],
   "source": [
    "numeric_features = ['Age', 'Fare']\n",
    "numeric_transformer = Pipeline(steps=[\n",
    "    ('imputer', SimpleImputer(strategy='mean')),\n",
    "    ('scaler', StandardScaler())])\n",
    "categorical_features = ['Pclass', 'Sex', 'Embarked']\n",
    "categorical_transformer = Pipeline(steps=[\n",
    "    ('imputer', SimpleImputer(strategy='most_frequent')),\n",
    "    ('onehot', OneHotEncoder(handle_unknown='ignore'))])\n",
    "preprocessor = ColumnTransformer(\n",
    "    transformers=[\n",
    "        ('num', numeric_transformer, numeric_features),\n",
    "        ('cat', categorical_transformer, categorical_features)])\n",
    "trainset.info()"
   ]
  },
  {
   "cell_type": "markdown",
   "id": "b076598c",
   "metadata": {},
   "source": [
    "### Feature Engineering Experiments - KNN with vs. without Scaling\n",
    "\n",
    "- Numeric features: impute missing values, with/without standard scaling.  \n",
    "- Categorical features: impute most frequent, then one-hot encode.  \n",
    "- Compare two KNN pipelines (with vs. without scaling) using 5-fold F1 score.\n",
    "\n"
   ]
  },
  {
   "cell_type": "code",
   "execution_count": 10,
   "id": "4eab7a5e",
   "metadata": {},
   "outputs": [
    {
     "name": "stdout",
     "output_type": "stream",
     "text": [
      "Average F1 with scaling: 0.7156445243334295\n",
      "Average F1 without scaling: 0.5759646173804898\n"
     ]
    }
   ],
   "source": [
    "numeric_features = ['Age', 'Fare']\n",
    "categorical_features = ['Pclass', 'Sex', 'Embarked']\n",
    "numeric_with_scaling = Pipeline(steps=[\n",
    "    ('imputer', SimpleImputer(strategy='mean')),\n",
    "    ('scaler', StandardScaler())\n",
    "])\n",
    "numeric_no_scaling = Pipeline(steps=[\n",
    "    ('imputer', SimpleImputer(strategy='mean'))\n",
    "])\n",
    "categorical_transformer = Pipeline(steps=[\n",
    "    ('imputer', SimpleImputer(strategy='most_frequent')),\n",
    "    ('encoder', OneHotEncoder(handle_unknown='ignore'))\n",
    "])\n",
    "preprocessor_with_scaling = ColumnTransformer([\n",
    "    ('num', numeric_with_scaling, numeric_features),\n",
    "    ('cat', categorical_transformer, categorical_features)\n",
    "])\n",
    "preprocessor_no_scaling = ColumnTransformer([\n",
    "    ('num', numeric_no_scaling, numeric_features),\n",
    "    ('cat', categorical_transformer, categorical_features)\n",
    "])\n",
    "knn_with_scaling = Pipeline(steps=[\n",
    "    ('preprocessor', preprocessor_with_scaling),\n",
    "    ('classifier', KNeighborsClassifier(n_neighbors=5))\n",
    "])\n",
    "knn_no_scaling = Pipeline(steps=[\n",
    "    ('preprocessor', preprocessor_no_scaling),\n",
    "    ('classifier', KNeighborsClassifier(n_neighbors=5))\n",
    "])\n",
    "f1_scorer = make_scorer(f1_score)\n",
    "X = trainset.drop(columns='Survived')\n",
    "y = trainset['Survived']\n",
    "\n",
    "f1_with = cross_val_score(knn_with_scaling, X, y, cv=5, scoring=f1_scorer)\n",
    "f1_no = cross_val_score(knn_no_scaling, X, y, cv=5, scoring=f1_scorer)\n",
    "\n",
    "knn_with_score = f1_with.mean()\n",
    "knn_no_score = f1_no.mean()\n",
    "\n",
    "print(\"Average F1 with scaling:\", knn_with_score)\n",
    "print(\"Average F1 without scaling:\", knn_no_score)\n"
   ]
  },
  {
   "cell_type": "markdown",
   "id": "bbd67e6f",
   "metadata": {},
   "source": [
    "#### Results Summary\n",
    "\n",
    "- **Average F1 with scaling:** 0.716  \n",
    "- **Average F1 without scaling:** 0.576  \n",
    "\n",
    "**Conclusion:** Applying scaling significantly improved model performance (≈24% relative increase in F1 score).\n"
   ]
  },
  {
   "cell_type": "markdown",
   "id": "ed57af6c-ee3a-4bc4-a664-103674572daf",
   "metadata": {},
   "source": [
    "### Random Forest:\n",
    "- Created a pipeline that includes a preprocessing step.\n",
    "- Defined a grid of hyperparameters to test.\n",
    "- Chose 10, 50, 100 and 200 as the classifier n estimators.\n",
    "- Set up a grid search with 5-fold cross-validation to find the best hyperparameters.\n",
    "- Fitted the grid search to my training data, excluding the target column Survived.\n",
    "- Created a DataFrame to store the cross-validation results, including the tested parameters and their corresponding mean test scores.\n",
    "- The DataFrame is sorted by the highest mean test score."
   ]
  },
  {
   "cell_type": "code",
   "execution_count": 11,
   "id": "107fe4d3-9af3-4af9-b3a5-b77489065370",
   "metadata": {},
   "outputs": [
    {
     "data": {
      "text/html": [
       "<div>\n",
       "<style scoped>\n",
       "    .dataframe tbody tr th:only-of-type {\n",
       "        vertical-align: middle;\n",
       "    }\n",
       "\n",
       "    .dataframe tbody tr th {\n",
       "        vertical-align: top;\n",
       "    }\n",
       "\n",
       "    .dataframe thead th {\n",
       "        text-align: right;\n",
       "    }\n",
       "</style>\n",
       "<table border=\"1\" class=\"dataframe\">\n",
       "  <thead>\n",
       "    <tr style=\"text-align: right;\">\n",
       "      <th></th>\n",
       "      <th>Parameters</th>\n",
       "      <th>Mean Test Score</th>\n",
       "      <th>Model</th>\n",
       "    </tr>\n",
       "  </thead>\n",
       "  <tbody>\n",
       "    <tr>\n",
       "      <th>3</th>\n",
       "      <td>{'classifier__n_estimators': 150}</td>\n",
       "      <td>0.750971</td>\n",
       "      <td>Random Forest</td>\n",
       "    </tr>\n",
       "    <tr>\n",
       "      <th>2</th>\n",
       "      <td>{'classifier__n_estimators': 100}</td>\n",
       "      <td>0.740307</td>\n",
       "      <td>Random Forest</td>\n",
       "    </tr>\n",
       "    <tr>\n",
       "      <th>1</th>\n",
       "      <td>{'classifier__n_estimators': 50}</td>\n",
       "      <td>0.739017</td>\n",
       "      <td>Random Forest</td>\n",
       "    </tr>\n",
       "    <tr>\n",
       "      <th>0</th>\n",
       "      <td>{'classifier__n_estimators': 10}</td>\n",
       "      <td>0.727161</td>\n",
       "      <td>Random Forest</td>\n",
       "    </tr>\n",
       "  </tbody>\n",
       "</table>\n",
       "</div>"
      ],
      "text/plain": [
       "                          Parameters  Mean Test Score          Model\n",
       "3  {'classifier__n_estimators': 150}         0.750971  Random Forest\n",
       "2  {'classifier__n_estimators': 100}         0.740307  Random Forest\n",
       "1   {'classifier__n_estimators': 50}         0.739017  Random Forest\n",
       "0   {'classifier__n_estimators': 10}         0.727161  Random Forest"
      ]
     },
     "execution_count": 11,
     "metadata": {},
     "output_type": "execute_result"
    }
   ],
   "source": [
    "random_forest = Pipeline(steps=[\n",
    "    ('preprocessor', preprocessor),\n",
    "    ('classifier', RandomForestClassifier())\n",
    "])\n",
    "\n",
    "param_grid_rf = {'classifier__n_estimators': [10, 50, 100,150]}\n",
    "grid_rf = GridSearchCV(random_forest, param_grid_rf, cv=5, scoring='f1')\n",
    "grid_rf.fit(trainset.drop(columns='Survived'), trainset['Survived'])\n",
    "\n",
    "cv_results_rf = pd.DataFrame(grid_rf.cv_results_)[['params', 'mean_test_score']]\n",
    "cv_results_rf['Model'] = 'Random Forest'\n",
    "cv_results_rf.columns = ['Parameters', 'Mean Test Score','Model']\n",
    "\n",
    "# Sort and keep best\n",
    "cv_results_rf = cv_results_rf.sort_values(by='Mean Test Score', ascending=False)\n",
    "best_rf_score = cv_results_rf.iloc[0]['Mean Test Score']\n",
    "best_rf_params = cv_results_rf.iloc[0]['Parameters']\n",
    "\n",
    "cv_results_rf\n"
   ]
  },
  {
   "cell_type": "markdown",
   "id": "371f12c5-819d-4798-8c23-7144b1f6d597",
   "metadata": {},
   "source": [
    "### The best results for hyper param value:"
   ]
  },
  {
   "cell_type": "code",
   "execution_count": 12,
   "id": "8c1dfc33-8bdc-488e-9140-7344eb812d62",
   "metadata": {},
   "outputs": [
    {
     "name": "stdout",
     "output_type": "stream",
     "text": [
      "Best Random Forest Configuration:\n",
      "Parameters: {'classifier__n_estimators': 150}\n",
      "F1-score: 0.7509709575237176\n"
     ]
    }
   ],
   "source": [
    "best_params_rf = grid_rf.best_params_\n",
    "best_score_rf = grid_rf.best_score_\n",
    "print(\"Best Random Forest Configuration:\")\n",
    "print(\"Parameters:\", best_params_rf)\n",
    "print(\"F1-score:\", best_score_rf)"
   ]
  },
  {
   "cell_type": "markdown",
   "id": "a527abdb",
   "metadata": {},
   "source": [
    "#### Compare All Results"
   ]
  },
  {
   "cell_type": "code",
   "execution_count": 13,
   "id": "d0ec0ed6",
   "metadata": {},
   "outputs": [
    {
     "data": {
      "text/html": [
       "<div>\n",
       "<style scoped>\n",
       "    .dataframe tbody tr th:only-of-type {\n",
       "        vertical-align: middle;\n",
       "    }\n",
       "\n",
       "    .dataframe tbody tr th {\n",
       "        vertical-align: top;\n",
       "    }\n",
       "\n",
       "    .dataframe thead th {\n",
       "        text-align: right;\n",
       "    }\n",
       "</style>\n",
       "<table border=\"1\" class=\"dataframe\">\n",
       "  <thead>\n",
       "    <tr style=\"text-align: right;\">\n",
       "      <th></th>\n",
       "      <th>Model</th>\n",
       "      <th>Parameters</th>\n",
       "      <th>Mean Test Score</th>\n",
       "    </tr>\n",
       "  </thead>\n",
       "  <tbody>\n",
       "    <tr>\n",
       "      <th>0</th>\n",
       "      <td>Random Forest</td>\n",
       "      <td>{'classifier__n_estimators': 150}</td>\n",
       "      <td>0.750971</td>\n",
       "    </tr>\n",
       "    <tr>\n",
       "      <th>1</th>\n",
       "      <td>KNN (with scaling)</td>\n",
       "      <td>{'n_neighbors': 5}</td>\n",
       "      <td>0.715645</td>\n",
       "    </tr>\n",
       "    <tr>\n",
       "      <th>2</th>\n",
       "      <td>KNN (without scaling)</td>\n",
       "      <td>{'n_neighbors': 5}</td>\n",
       "      <td>0.575965</td>\n",
       "    </tr>\n",
       "  </tbody>\n",
       "</table>\n",
       "</div>"
      ],
      "text/plain": [
       "                   Model                         Parameters  Mean Test Score\n",
       "0          Random Forest  {'classifier__n_estimators': 150}         0.750971\n",
       "1     KNN (with scaling)                 {'n_neighbors': 5}         0.715645\n",
       "2  KNN (without scaling)                 {'n_neighbors': 5}         0.575965"
      ]
     },
     "execution_count": 13,
     "metadata": {},
     "output_type": "execute_result"
    }
   ],
   "source": [
    "comparison_df = pd.DataFrame([\n",
    "    {'Model': 'Random Forest', 'Parameters': best_rf_params, 'Mean Test Score': best_rf_score},\n",
    "    {'Model': 'KNN (with scaling)', 'Parameters': {'n_neighbors': 5}, 'Mean Test Score': knn_with_score},\n",
    "    {'Model': 'KNN (without scaling)', 'Parameters': {'n_neighbors': 5}, 'Mean Test Score': knn_no_score},\n",
    "])\n",
    "\n",
    "comparison_df.sort_values(by='Mean Test Score', ascending=False)\n"
   ]
  },
  {
   "cell_type": "markdown",
   "id": "b4ca3861",
   "metadata": {},
   "source": [
    "### Model Comparison Summary\n",
    "\n",
    "- **Random Forest (100 trees)** performed best with an F1 score of **0.745**.  \n",
    "- **KNN with scaling** achieved an F1 score of **0.716**, showing decent performance.  \n",
    "- **KNN without scaling** lagged behind at **0.576**, highlighting the importance of feature scaling.  \n",
    "\n",
    "**Conclusion** - Random Forest is the strongest choice overall, while scaling is essential for KNN to remain competitive.\n"
   ]
  },
  {
   "cell_type": "markdown",
   "id": "67d97f11",
   "metadata": {},
   "source": [
    "## Part 4 - Training \n",
    "Use the best combination of feature engineering, model (algorithm and hyperparameters) from the experiment part (part 3)"
   ]
  },
  {
   "cell_type": "markdown",
   "id": "00c9bf1c-c720-43f8-9f52-c9bd33610f49",
   "metadata": {},
   "source": [
    "- Retrained the best model (Random Forest) on the train set.\n",
    "- Save the Predictions on train data.\n",
    "- Calculated F1-Score on train data."
   ]
  },
  {
   "cell_type": "code",
   "execution_count": 14,
   "id": "93713ead",
   "metadata": {},
   "outputs": [
    {
     "name": "stdout",
     "output_type": "stream",
     "text": [
      "F1 Score on train data (Best Model) 0.9731663685152058\n"
     ]
    }
   ],
   "source": [
    "best_model =grid_rf.best_estimator_ \n",
    "best_model.fit(trainset.drop(columns='Survived'), trainset['Survived'])\n",
    "train_predictions = best_model.predict(trainset.drop(columns='Survived'))\n",
    "f1_train = f1_score(trainset['Survived'], train_predictions)\n",
    "print(\"F1 Score on train data (Best Model)\", f1_train)"
   ]
  },
  {
   "cell_type": "markdown",
   "id": "259ab902",
   "metadata": {},
   "source": [
    "## Part 5 - Apply on test and show model performance estimation"
   ]
  },
  {
   "cell_type": "markdown",
   "id": "16f275bb-6d61-494f-b663-df2c246b12ef",
   "metadata": {},
   "source": [
    "- Used Random Forest to do the Prediction on the test set.\n",
    "- Added predictions to the test DataFrame.\n",
    "- Showed the first 5 rows of the test DataFrame with predictions."
   ]
  },
  {
   "cell_type": "code",
   "execution_count": 15,
   "id": "d9971aa5",
   "metadata": {},
   "outputs": [
    {
     "data": {
      "text/html": [
       "<div>\n",
       "<style scoped>\n",
       "    .dataframe tbody tr th:only-of-type {\n",
       "        vertical-align: middle;\n",
       "    }\n",
       "\n",
       "    .dataframe tbody tr th {\n",
       "        vertical-align: top;\n",
       "    }\n",
       "\n",
       "    .dataframe thead th {\n",
       "        text-align: right;\n",
       "    }\n",
       "</style>\n",
       "<table border=\"1\" class=\"dataframe\">\n",
       "  <thead>\n",
       "    <tr style=\"text-align: right;\">\n",
       "      <th></th>\n",
       "      <th>Pclass</th>\n",
       "      <th>Sex</th>\n",
       "      <th>Age</th>\n",
       "      <th>SibSp</th>\n",
       "      <th>Parch</th>\n",
       "      <th>Fare</th>\n",
       "      <th>Embarked</th>\n",
       "      <th>Survived</th>\n",
       "      <th>Survived_Predicted</th>\n",
       "    </tr>\n",
       "  </thead>\n",
       "  <tbody>\n",
       "    <tr>\n",
       "      <th>0</th>\n",
       "      <td>3</td>\n",
       "      <td>1</td>\n",
       "      <td>35.000000</td>\n",
       "      <td>0</td>\n",
       "      <td>0</td>\n",
       "      <td>7.0500</td>\n",
       "      <td>0</td>\n",
       "      <td>0</td>\n",
       "      <td>0</td>\n",
       "    </tr>\n",
       "    <tr>\n",
       "      <th>1</th>\n",
       "      <td>3</td>\n",
       "      <td>1</td>\n",
       "      <td>30.000000</td>\n",
       "      <td>0</td>\n",
       "      <td>0</td>\n",
       "      <td>7.2500</td>\n",
       "      <td>0</td>\n",
       "      <td>0</td>\n",
       "      <td>0</td>\n",
       "    </tr>\n",
       "    <tr>\n",
       "      <th>2</th>\n",
       "      <td>3</td>\n",
       "      <td>1</td>\n",
       "      <td>29.699118</td>\n",
       "      <td>0</td>\n",
       "      <td>0</td>\n",
       "      <td>14.5000</td>\n",
       "      <td>0</td>\n",
       "      <td>0</td>\n",
       "      <td>0</td>\n",
       "    </tr>\n",
       "    <tr>\n",
       "      <th>3</th>\n",
       "      <td>3</td>\n",
       "      <td>0</td>\n",
       "      <td>21.000000</td>\n",
       "      <td>0</td>\n",
       "      <td>0</td>\n",
       "      <td>7.7500</td>\n",
       "      <td>2</td>\n",
       "      <td>0</td>\n",
       "      <td>1</td>\n",
       "    </tr>\n",
       "    <tr>\n",
       "      <th>4</th>\n",
       "      <td>3</td>\n",
       "      <td>1</td>\n",
       "      <td>32.000000</td>\n",
       "      <td>0</td>\n",
       "      <td>0</td>\n",
       "      <td>56.4958</td>\n",
       "      <td>0</td>\n",
       "      <td>1</td>\n",
       "      <td>1</td>\n",
       "    </tr>\n",
       "  </tbody>\n",
       "</table>\n",
       "</div>"
      ],
      "text/plain": [
       "   Pclass  Sex        Age  SibSp  Parch     Fare  Embarked  Survived  \\\n",
       "0       3    1  35.000000      0      0   7.0500         0         0   \n",
       "1       3    1  30.000000      0      0   7.2500         0         0   \n",
       "2       3    1  29.699118      0      0  14.5000         0         0   \n",
       "3       3    0  21.000000      0      0   7.7500         2         0   \n",
       "4       3    1  32.000000      0      0  56.4958         0         1   \n",
       "\n",
       "   Survived_Predicted  \n",
       "0                   0  \n",
       "1                   0  \n",
       "2                   0  \n",
       "3                   1  \n",
       "4                   1  "
      ]
     },
     "execution_count": 15,
     "metadata": {},
     "output_type": "execute_result"
    }
   ],
   "source": [
    "test_predictions = best_model.predict(testset)\n",
    "testset['Survived_Predicted'] = test_predictions\n",
    "testset.head()"
   ]
  },
  {
   "cell_type": "code",
   "execution_count": 16,
   "id": "00d8aa96",
   "metadata": {},
   "outputs": [
    {
     "name": "stdout",
     "output_type": "stream",
     "text": [
      "First 5 predictions on the test set:  [0 0 0 1 1]\n"
     ]
    }
   ],
   "source": [
    "print(\"First 5 predictions on the test set: \",test_predictions[:5])"
   ]
  },
  {
   "cell_type": "markdown",
   "id": "57e8443d-7514-4c8f-aadb-59130f02d150",
   "metadata": {},
   "source": [
    "### Calculated the F1 score on the data set:"
   ]
  },
  {
   "cell_type": "code",
   "execution_count": 17,
   "id": "02181ed6-af22-466f-bd09-f6099295e2f5",
   "metadata": {},
   "outputs": [
    {
     "name": "stdout",
     "output_type": "stream",
     "text": [
      "F1 Score on test data: 0.7933884297520661\n"
     ]
    }
   ],
   "source": [
    "f1_test = f1_score(testset['Survived'], test_predictions)\n",
    "print(\"F1 Score on test data:\", f1_test)"
   ]
  }
 ],
 "metadata": {
  "kernelspec": {
   "display_name": ".venv",
   "language": "python",
   "name": "python3"
  },
  "language_info": {
   "codemirror_mode": {
    "name": "ipython",
    "version": 3
   },
   "file_extension": ".py",
   "mimetype": "text/x-python",
   "name": "python",
   "nbconvert_exporter": "python",
   "pygments_lexer": "ipython3",
   "version": "3.11.5"
  }
 },
 "nbformat": 4,
 "nbformat_minor": 5
}
